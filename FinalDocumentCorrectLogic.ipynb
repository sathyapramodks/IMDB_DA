{
  "cells": [
    {
      "cell_type": "markdown",
      "metadata": {
        "id": "view-in-github",
        "colab_type": "text"
      },
      "source": [
        "<a href=\"https://colab.research.google.com/github/sathyapramodks/Python-/blob/master/FinalDocumentCorrectLogic.ipynb\" target=\"_parent\"><img src=\"https://colab.research.google.com/assets/colab-badge.svg\" alt=\"Open In Colab\"/></a>"
      ]
    },
    {
      "cell_type": "code",
      "source": [
        "import pandas as pd\n",
        "import numpy as np\n",
        "import seaborn as sns\n",
        "import matplotlib.pyplot as plt"
      ],
      "metadata": {
        "id": "lO6MbOdNWGlm"
      },
      "execution_count": 1,
      "outputs": []
    },
    {
      "cell_type": "code",
      "source": [
        "Plen = 320\n",
        "Pwid = 330\n",
        "Phei = 380\n",
        "PartWeight = 30"
      ],
      "metadata": {
        "id": "UBdrrfqTWJP8"
      },
      "execution_count": 2,
      "outputs": []
    },
    {
      "cell_type": "code",
      "source": [
        "Tlen = 0\n",
        "Twid = 0\n",
        "Thei = 0\n",
        "#Clen = 100 # or 2% of length\n",
        "Clen = 0.15* Plen\n",
        "#Cwid = 80 # or 2% of width\n",
        "Cwid = 0.15* Pwid\n",
        "#Chei = 40 # or 2% of height\n",
        "Chei = 0.15*Phei\n",
        "\n",
        "#Ground clearance height\n",
        "Ghei = 840 #tentative value to must be revised\n",
        "\n",
        "Nl = 0\n",
        "Nw = 0\n",
        "Nh = 0\n",
        "N = 0\n",
        "\n",
        "#Acceleration a = 0.2285 m/s^2\n",
        "#Pulling force = m * a\n",
        "a = 0.2285\n",
        "F = 0\n",
        "mP = PartWeight\n",
        "\n",
        "#Trolley mass is assumed to be 100kg\n",
        "mT = 100"
      ],
      "metadata": {
        "id": "35Cd0cMFW1Iv"
      },
      "execution_count": 3,
      "outputs": []
    },
    {
      "cell_type": "markdown",
      "source": [
        "#New logic section"
      ],
      "metadata": {
        "id": "FQg90opzcfgG"
      }
    },
    {
      "cell_type": "code",
      "source": [
        "def trolley_dim_detector_New(Plen, Pwid, Phei, PartWeight, Clen, Cwid, Chei, Ghei):\n",
        "  Tlen = Twid = Thei = 0\n",
        "  Nl = Nw = Nh = N = 0\n",
        "  a = 0.2285\n",
        "  F = 0\n",
        "  #Flst = []\n",
        "  mP = PartWeight\n",
        "  mT = 100\n",
        "  i = 1\n",
        "  while F < 16:\n",
        "    if (Tlen+(Plen+Clen)<1400) or (Twid+Pwid+Cwid<1000) or (Thei+Phei+Chei<1500):\n",
        "        if (Plen*i)+(Clen*(i+1)) < 1400:\n",
        "          Tlen = (Plen*i)+(Clen*(i+1))\n",
        "          Nl=Nl+1\n",
        "          F = (mT + (mP*Nl*Nw*Nh))*a*0.10972\n",
        "        if F>16:\n",
        "            Nl -= 1\n",
        "            break\n",
        "        if (Pwid*i)+(Cwid*(i+1)) < 1000:\n",
        "          Twid = (Pwid*i)+(Cwid*(i+1))\n",
        "          Nw=Nw+1\n",
        "          F = (mT + (mP*Nl*Nw*Nh))*a*0.10972\n",
        "        if F>16:\n",
        "            Nw -= 1\n",
        "            break\n",
        "        if (Phei*i)+(Chei*(i+1))+Ghei < 1500:\n",
        "          Thei = (Phei*i)+(Chei*(i+1))+Ghei\n",
        "          Nh=Nh+1\n",
        "          F = (mT + (mP*Nl*Nw*Nh))*a*0.10972\n",
        "        if F>16:\n",
        "            Nh -= 1\n",
        "            break\n",
        "    else:\n",
        "        break\n",
        "    #F = (mT + (mP*Nl*Nw*Nh))*a*0.10972\n",
        "    #Flst.append(F)\n",
        "    i+=1\n",
        "  return {\"Trolley length\":Tlen,\n",
        "          \"Trolley width\" :Twid, \n",
        "          \"Trolley Height\" :Thei, \n",
        "          \"No of parts in Length direction\": Nl,\n",
        "          \"No of parts in width direction\" :Nw,\n",
        "          \"No of parts in Height direction\" :Nh,\n",
        "          \"Trolley capacity\":Nl*Nw*Nh,\n",
        "          \"Pulling Force\" :(mT + (mP*Nl*Nw*Nh))*a*0.10972 }"
      ],
      "metadata": {
        "id": "i6_PXfM1I6Hd"
      },
      "execution_count": 61,
      "outputs": []
    },
    {
      "cell_type": "markdown",
      "source": [
        "Manual calculate clearance"
      ],
      "metadata": {
        "id": "9wZLdaTzhUmY"
      }
    },
    {
      "cell_type": "code",
      "source": [
        "def trolley_dim_detector_New(Plen, Pwid, Phei, PartWeight, Clen, Cwid, Chei, Ghei):\n",
        "  Tlen = Twid = Thei = 0\n",
        "  Nl = Nw = Nh = N = 0\n",
        "  a = 0.2285\n",
        "  F = 0\n",
        "  #Flst = []\n",
        "  mP = PartWeight\n",
        "  mT = 100\n",
        "  i = 1\n",
        "  while F < 16:\n",
        "    if (Tlen+(Plen+Clen)<1400) or (Twid+Pwid+Cwid<1000) or (Thei+Phei+Chei<1500):\n",
        "        if (Plen*i)+(Clen*(i+1)) < 1400:\n",
        "          Tlen = (Plen*i)+(Clen*(i+1))\n",
        "          Nl=Nl+1\n",
        "          F = (mT + (mP*Nl*Nw*Nh))*a*0.10972\n",
        "        if F>16:\n",
        "            Nl -= 1\n",
        "            break\n",
        "        if (Pwid*i)+(Cwid*(i+1)) < 1000:\n",
        "          Twid = (Pwid*i)+(Cwid*(i+1))\n",
        "          Nw=Nw+1\n",
        "          F = (mT + (mP*Nl*Nw*Nh))*a*0.10972\n",
        "        if F>16:\n",
        "            Nw -= 1\n",
        "            break\n",
        "        if (Phei*i)+(Chei*(i+1))+Ghei < 1500:\n",
        "          Thei = (Phei*i)+(Chei*(i+1))+Ghei\n",
        "          Nh=Nh+1\n",
        "          F = (mT + (mP*Nl*Nw*Nh))*a*0.10972\n",
        "        if F>16:\n",
        "            Nh -= 1\n",
        "            break\n",
        "    else:\n",
        "        break\n",
        "    #F = (mT + (mP*Nl*Nw*Nh))*a*0.10972\n",
        "    #Flst.append(F)\n",
        "    i+=1\n",
        "  return {\"Trolley length\":Tlen,\n",
        "          \"Trolley width\" :Twid, \n",
        "          \"Trolley Height\" :Thei, \n",
        "          \"No of parts in Length direction\": Nl,\n",
        "          \"No of parts in width direction\" :Nw,\n",
        "          \"No of parts in Height direction\" :Nh,\n",
        "          \"Trolley capacity\":Nl*Nw*Nh,\n",
        "          \"Pulling Force\" :(mT + (mP*Nl*Nw*Nh))*a*0.10972 }"
      ],
      "metadata": {
        "id": "WFZpQTjxhUmp"
      },
      "execution_count": 71,
      "outputs": []
    },
    {
      "cell_type": "markdown",
      "source": [
        "Part height consideration"
      ],
      "metadata": {
        "id": "Ii5hrn7ShdEY"
      }
    },
    {
      "cell_type": "code",
      "source": [
        "def trolley_dim_detector_New_PartHeight(Plen, Pwid, Phei, PartWeight, Clen, Cwid, Chei, Ghei):\n",
        "  Tlen = Twid = Thei = 0\n",
        "  Nl = Nw = Nh = N = 0\n",
        "  a = 0.2285\n",
        "  F = 0\n",
        "  #Flst = []\n",
        "  mP = PartWeight\n",
        "  mT = 100\n",
        "  i = 1\n",
        "  while F < 16:\n",
        "    if (Tlen+(Plen+Clen)<1400) or (Twid+Pwid+Cwid<1000) or (Thei+Phei+Chei<1500):\n",
        "        if (Plen*i)+(Clen*(i+1)) < 1400:\n",
        "          Tlen = (Plen*i)+(Clen*(i+1))\n",
        "          Nl=Nl+1\n",
        "          F = (mT + (mP*Nl*Nw*Nh))*a*0.10972\n",
        "        if F>16:\n",
        "            Nl -= 1\n",
        "            break\n",
        "        if (Pwid*i)+(Cwid*(i+1)) < 1000:\n",
        "          Twid = (Pwid*i)+(Cwid*(i+1))\n",
        "          Nw=Nw+1\n",
        "          F = (mT + (mP*Nl*Nw*Nh))*a*0.10972\n",
        "        if F>16:\n",
        "            Nw -= 1\n",
        "            break\n",
        "        if (Phei*i)+(Chei*(i+1))+Ghei < (1500+(1500*0.15)):\n",
        "          Thei = (Phei*i)+(Chei*(i+1))+Ghei\n",
        "          Nh=Nh+1\n",
        "          F = (mT + (mP*Nl*Nw*Nh))*a*0.10972\n",
        "        if F>16:\n",
        "            Nh -= 1\n",
        "            break\n",
        "    else:\n",
        "        break\n",
        "    #F = (mT + (mP*Nl*Nw*Nh))*a*0.10972\n",
        "    #Flst.append(F)\n",
        "    i+=1\n",
        "  return {\"Trolley length\":Tlen,\n",
        "          \"Trolley width\" :Twid, \n",
        "          \"Trolley Height\" :Thei, \n",
        "          \"No of parts in Length direction\": Nl,\n",
        "          \"No of parts in width direction\" :Nw,\n",
        "          \"No of parts in Height direction\" :Nh,\n",
        "          \"Trolley capacity\":Nl*Nw*Nh,\n",
        "          \"Pulling Force\" :(mT + (mP*Nl*Nw*Nh))*a*0.10972 }"
      ],
      "metadata": {
        "id": "DmhvcB3lhdEo"
      },
      "execution_count": 70,
      "outputs": []
    },
    {
      "cell_type": "markdown",
      "source": [
        "Auto calculate clearance"
      ],
      "metadata": {
        "id": "nSGhsNcYhwOh"
      }
    },
    {
      "cell_type": "code",
      "source": [
        "def trolley_dim_detector_New_AutoClearance(Plen, Pwid, Phei, PartWeight, Ghei):\n",
        "  Tlen = Twid = Thei = 0\n",
        "  Nl = Nw = Nh = N = 0\n",
        "  a = 0.2285\n",
        "  F = 0\n",
        "  Clen = Plen * 0.15\n",
        "  Cwid = Pwid *0.15\n",
        "  Chei = Phei *0.15\n",
        "  #Flst = []\n",
        "  mP = PartWeight\n",
        "  mT = 100\n",
        "  i = 1\n",
        "  while F < 16:\n",
        "    if (Tlen+(Plen+Clen)<1400) or (Twid+Pwid+Cwid<1000) or (Thei+Phei+Chei<1500):\n",
        "        if (Plen*i)+(Clen*(i+1)) < 1400:\n",
        "          Tlen = (Plen*i)+(Clen*(i+1))\n",
        "          Nl=Nl+1\n",
        "          F = (mT + (mP*Nl*Nw*Nh))*a*0.10972\n",
        "        if F>16:\n",
        "            Nl -= 1\n",
        "            break\n",
        "        if (Pwid*i)+(Cwid*(i+1)) < 1000:\n",
        "          Twid = (Pwid*i)+(Cwid*(i+1))\n",
        "          Nw=Nw+1\n",
        "          F = (mT + (mP*Nl*Nw*Nh))*a*0.10972\n",
        "        if F>16:\n",
        "            Nw -= 1\n",
        "            break\n",
        "        if (Phei*i)+(Chei*(i+1))+Ghei < (1500+(1500*0.15)):\n",
        "          Thei = (Phei*i)+(Chei*(i+1))+Ghei\n",
        "          Nh=Nh+1\n",
        "          F = (mT + (mP*Nl*Nw*Nh))*a*0.10972\n",
        "        if F>16:\n",
        "            Nh -= 1\n",
        "            break\n",
        "    else:\n",
        "        break\n",
        "    #F = (mT + (mP*Nl*Nw*Nh))*a*0.10972\n",
        "    #Flst.append(F)\n",
        "    i+=1\n",
        "  return {\"Trolley length\":Tlen,\n",
        "          \"Trolley width\" :Twid, \n",
        "          \"Trolley Height\" :Thei, \n",
        "          \"No of parts in Length direction\": Nl,\n",
        "          \"No of parts in width direction\" :Nw,\n",
        "          \"No of parts in Height direction\" :Nh,\n",
        "          \"Trolley capacity\":Nl*Nw*Nh,\n",
        "          \"Pulling Force\" :(mT + (mP*Nl*Nw*Nh))*a*0.10972 }"
      ],
      "metadata": {
        "id": "tBwf6g-shwOq"
      },
      "execution_count": 72,
      "outputs": []
    },
    {
      "cell_type": "code",
      "source": [
        "# for Engine trolley\n",
        "print(trolley_dim_detector_New(320,330,380,30,100,80,40,840))"
      ],
      "metadata": {
        "colab": {
          "base_uri": "https://localhost:8080/"
        },
        "id": "mOLt40YIiFpn",
        "outputId": "f1455725-2160-4f7c-c646-2f7510d9ccab"
      },
      "execution_count": 73,
      "outputs": [
        {
          "output_type": "stream",
          "name": "stdout",
          "text": [
            "{'Trolley length': 1360, 'Trolley width': 900, 'Trolley Height': 1300, 'No of parts in Length direction': 3, 'No of parts in width direction': 2, 'No of parts in Height direction': 1, 'Trolley capacity': 6, 'Pulling Force': 7.0198856}\n"
          ]
        }
      ]
    },
    {
      "cell_type": "code",
      "source": [
        "# for Engine trolley\n",
        "print(trolley_dim_detector_New_PartHeight(320,330,380,30,100,80,40,840))"
      ],
      "metadata": {
        "colab": {
          "base_uri": "https://localhost:8080/"
        },
        "id": "ErJabPYXiFy4",
        "outputId": "71aef72f-9b23-49f0-cc56-6eb044657b24"
      },
      "execution_count": 74,
      "outputs": [
        {
          "output_type": "stream",
          "name": "stdout",
          "text": [
            "{'Trolley length': 1360, 'Trolley width': 900, 'Trolley Height': 1720, 'No of parts in Length direction': 3, 'No of parts in width direction': 2, 'No of parts in Height direction': 2, 'Trolley capacity': 12, 'Pulling Force': 11.532669199999999}\n"
          ]
        }
      ]
    },
    {
      "cell_type": "code",
      "source": [
        "# for Engine trolley\n",
        "print(trolley_dim_detector_New_AutoClearance(320,330,380,30,840))"
      ],
      "metadata": {
        "colab": {
          "base_uri": "https://localhost:8080/"
        },
        "id": "3Z61RTJniF72",
        "outputId": "591a4d2c-168d-42be-c26f-0166641c7c22"
      },
      "execution_count": 75,
      "outputs": [
        {
          "output_type": "stream",
          "name": "stdout",
          "text": [
            "{'Trolley length': 1152.0, 'Trolley width': 808.5, 'Trolley Height': 1334.0, 'No of parts in Length direction': 3, 'No of parts in width direction': 2, 'No of parts in Height direction': 1, 'Trolley capacity': 6, 'Pulling Force': 7.0198856}\n"
          ]
        }
      ]
    },
    {
      "cell_type": "markdown",
      "source": [
        "#ignore the below sections\n"
      ],
      "metadata": {
        "id": "JaVLQyCDrWCX"
      }
    },
    {
      "cell_type": "code",
      "source": [
        "N = [Nl, Nw, Nh]\n",
        "print(np.prod(N))"
      ],
      "metadata": {
        "colab": {
          "base_uri": "https://localhost:8080/"
        },
        "id": "GdwQOQIoeW9c",
        "outputId": "ccf5ad76-6555-4817-e924-dea2a6c3e7d7"
      },
      "execution_count": 5,
      "outputs": [
        {
          "output_type": "stream",
          "name": "stdout",
          "text": [
            "6\n"
          ]
        }
      ]
    },
    {
      "cell_type": "code",
      "source": [
        "print(Tlen, Twid, Thei)"
      ],
      "metadata": {
        "colab": {
          "base_uri": "https://localhost:8080/"
        },
        "id": "llDD0AhAeNGc",
        "outputId": "f3acbb0d-338a-48d4-9078-ff487ed266e7"
      },
      "execution_count": 6,
      "outputs": [
        {
          "output_type": "stream",
          "name": "stdout",
          "text": [
            "1152.0 808.5 1334.0\n"
          ]
        }
      ]
    },
    {
      "cell_type": "code",
      "source": [
        "N\n"
      ],
      "metadata": {
        "colab": {
          "base_uri": "https://localhost:8080/"
        },
        "id": "Y9B9XgD6phqY",
        "outputId": "2ade99fb-e2c3-427d-bad2-f2c97bd1fa18"
      },
      "execution_count": 7,
      "outputs": [
        {
          "output_type": "execute_result",
          "data": {
            "text/plain": [
              "[3, 2, 1]"
            ]
          },
          "metadata": {},
          "execution_count": 7
        }
      ]
    },
    {
      "cell_type": "code",
      "source": [
        "print(F,Nl)"
      ],
      "metadata": {
        "colab": {
          "base_uri": "https://localhost:8080/"
        },
        "id": "AwLYOZytvQgb",
        "outputId": "2e8b269d-24d1-41f8-e2d9-0e1ac053b61f"
      },
      "execution_count": 8,
      "outputs": [
        {
          "output_type": "stream",
          "name": "stdout",
          "text": [
            "7.0198856 3\n"
          ]
        }
      ]
    },
    {
      "cell_type": "markdown",
      "source": [
        "The below snippet of code is the copy of the above snippets in a function manner"
      ],
      "metadata": {
        "id": "WuKdwo6Y_otO"
      }
    },
    {
      "cell_type": "code",
      "source": [
        "def trolley_dim_detector(Plen, Pwid, Phei, PartWeight, Clen, Cwid, Chei, Ghei):\n",
        "  Tlen = Twid = Thei = 0\n",
        "  Nl = Nw = Nh = N = 0\n",
        "  a = 0.2285\n",
        "  F = 0\n",
        "  mP = PartWeight\n",
        "  mT = 100\n",
        "  for i in range (1,100):\n",
        "    if (Plen*i)+(Clen*(i+1)) < 1400 and F < 16:\n",
        "      Tlen = (Plen*i)+(Clen*(i+1))\n",
        "      #print('{} Len block'.format(i))\n",
        "      Nl = i\n",
        "    else: \n",
        "      pass\n",
        "    F = (mT + (mP*Nl*Nw*Nh))*a*0.10972\n",
        "    \n",
        "    if (Pwid*i)+(Cwid*(i+1)) < 1000 and F < 16:\n",
        "      Twid = (Pwid*i)+(Cwid*(i+1))\n",
        "      #print('{} Width block'.format(i))\n",
        "      Nw = i\n",
        "    else: \n",
        "      pass\n",
        "    F = (mT + (mP*Nl*Nw*Nh))*a*0.10972\n",
        "    \n",
        "    if (Phei*i)+(Chei*(i+1))+Ghei < 1500 and F < 16:\n",
        "      Thei = (Phei*i)+(Chei*(i+1))+Ghei\n",
        "      #print('{} height block {}'.format(i, Thei))\n",
        "      Nh = i\n",
        "    else: \n",
        "      pass \n",
        "    F = (mT + (mP*Nl*Nw*Nh))*a*0.10972\n",
        "  return([Tlen,Twid, Thei, Nl, Nw, Nh, np.prod([Nl,Nw,Nh]),round(F,3)])"
      ],
      "metadata": {
        "id": "JZo7gVVX_nt2"
      },
      "execution_count": 9,
      "outputs": []
    },
    {
      "cell_type": "code",
      "source": [
        "# for Engine trolley\n",
        "print(trolley_dim_detector(320,330,380,30,100,80,40,840))"
      ],
      "metadata": {
        "id": "mxDm39inDdyF",
        "outputId": "18a87924-1df0-46a5-accf-854b472db986",
        "colab": {
          "base_uri": "https://localhost:8080/"
        }
      },
      "execution_count": 10,
      "outputs": [
        {
          "output_type": "stream",
          "name": "stdout",
          "text": [
            "[1360, 900, 1300, 3, 2, 1, 6, 7.02]\n"
          ]
        }
      ]
    },
    {
      "cell_type": "code",
      "source": [
        "# for fule tank trolley (star city, city+)\n",
        "print(trolley_dim_detector(305,520,345,3.72,100,80,40,200))"
      ],
      "metadata": {
        "id": "NUQd3-uRWoXx",
        "outputId": "fdf40084-1ece-44e3-a7c8-7cc4092a3d43",
        "colab": {
          "base_uri": "https://localhost:8080/"
        }
      },
      "execution_count": 11,
      "outputs": [
        {
          "output_type": "stream",
          "name": "stdout",
          "text": [
            "[1315, 680, 1395, 3, 1, 3, 9, 3.346]\n"
          ]
        }
      ]
    },
    {
      "cell_type": "markdown",
      "source": [
        "The below snippet is based on the constrain of part height\n",
        "\n",
        "\n",
        "1.   The height of the trolley along with the parts can be a maximum of 20% higher than tha height of the trolley not considering the height of the part\n",
        "2.   This assumption may be a good one or a wrong one which has to be validated before using.\n",
        "\n"
      ],
      "metadata": {
        "id": "hb-JPlaFY06_"
      }
    },
    {
      "cell_type": "code",
      "source": [
        "# code functioning based on Part height consideration\n",
        "def trolley_dim_detector_partHeight(Plen, Pwid, Phei, PartWeight, Clen, Cwid, Chei, Ghei):\n",
        "  Tlen = Twid = Thei = 0\n",
        "  Nl = Nw = Nh = N = 0\n",
        "  a = 0.2285\n",
        "  F = 0\n",
        "  mP = PartWeight\n",
        "  mT = 100\n",
        "  for i in range (1,100):\n",
        "    if (Plen*i)+(Clen*(i+1)) < 1400 and ((mT + (mP*Nl*Nw*Nh))*a*0.10972) < 16:\n",
        "      Tlen = (Plen*i)+(Clen*(i+1))\n",
        "      #print('{} Len block'.format(i))\n",
        "      Nl = i\n",
        "    else: \n",
        "      pass\n",
        "    F = (mT + (mP*Nl*Nw*Nh))*a*0.10972\n",
        "    \n",
        "    if (Pwid*i)+(Cwid*(i+1)) < 1000 and ((mT + (mP*Nl*Nw*Nh))*a*0.10972) < 16:\n",
        "      Twid = (Pwid*i)+(Cwid*(i+1))\n",
        "      #print('{} Width block'.format(i))\n",
        "      Nw = i\n",
        "    else: \n",
        "      pass\n",
        "    F = (mT + (mP*Nl*Nw*Nh))*a*0.10972\n",
        "    \n",
        "    if (Phei*i)+(Chei*(i+1))+Ghei < 1500 and ((mT + (mP*Nl*Nw*Nh))*a*0.10972) < 16:\n",
        "      Thei = (Phei*i)+(Chei*(i+1))+Ghei\n",
        "      #print('{} height block {}'.format(i, Thei))\n",
        "      Nh = i\n",
        "    else: \n",
        "      pass \n",
        "    F = (mT + (mP*Nl*Nw*Nh))*a*0.10972\n",
        "  return([Tlen,Twid, Thei, Nl, Nw, Nh, np.prod([Nl,Nw,Nh]),round(F,3)])"
      ],
      "metadata": {
        "id": "07whxPgeYlki"
      },
      "execution_count": 22,
      "outputs": []
    },
    {
      "cell_type": "code",
      "source": [
        "# for Engine trolley\n",
        "print(trolley_dim_detector_partHeight(320,330,380,30,100,80,40,840))"
      ],
      "metadata": {
        "colab": {
          "base_uri": "https://localhost:8080/"
        },
        "id": "n4e-75g2gVtF",
        "outputId": "fd2f9f9f-68be-49a4-ee6c-746be988b371"
      },
      "execution_count": 25,
      "outputs": [
        {
          "output_type": "stream",
          "name": "stdout",
          "text": [
            "[1360, 900, 1300, 3, 2, 1, 6, 7.02]\n"
          ]
        }
      ]
    },
    {
      "cell_type": "code",
      "source": [
        "# for Engine trolley\n",
        "print(trolley_dim_detector_New(320,330,380,600,100,80,40,840))"
      ],
      "metadata": {
        "colab": {
          "base_uri": "https://localhost:8080/"
        },
        "outputId": "158abde3-04b6-455b-84be-cd440480581d",
        "id": "TI6J82T_JAIZ"
      },
      "execution_count": 69,
      "outputs": [
        {
          "output_type": "stream",
          "name": "stdout",
          "text": [
            "{'Trolley length': 520, 'Trolley width': 490, 'Trolley Height': 1300, 'No of parts in Length direction': 1, 'No of parts in width direction': 1, 'No of parts in Height direction': 0, 'Trolley capacity': 0, 'Pulling Force': 2.507102}\n"
          ]
        }
      ]
    },
    {
      "cell_type": "code",
      "source": [
        "1500*1.2"
      ],
      "metadata": {
        "id": "wODeAWoYX_Im",
        "outputId": "ff615e3b-d97b-4dee-cf08-64169d618850",
        "colab": {
          "base_uri": "https://localhost:8080/"
        }
      },
      "execution_count": 14,
      "outputs": [
        {
          "output_type": "execute_result",
          "data": {
            "text/plain": [
              "1800.0"
            ]
          },
          "metadata": {},
          "execution_count": 14
        }
      ]
    },
    {
      "cell_type": "markdown",
      "source": [
        "# Auto calculate clearance function\n",
        "code is not added to avoid conflick with the system so scroll up see the first example for further queries"
      ],
      "metadata": {
        "id": "bnAlNXhLfz45"
      }
    },
    {
      "cell_type": "code",
      "source": [
        "# Look below for the code\n",
        "def trolley_dim_detector_AutoClearance(Plen, Pwid, Phei, PartWeight, Ghei):\n",
        "  Tlen = Twid = Thei = 0\n",
        "  Clen = 0.15 * Plen\n",
        "  Cwid = 0.15 * Pwid\n",
        "  Chei = 0.15 * Phei\n",
        "  Nl = Nw = Nh = N = 0\n",
        "  a = 0.2285\n",
        "  F = 0\n",
        "  mP = PartWeight\n",
        "  mT = 100\n",
        "  for i in range (1,100):\n",
        "    if (Plen*i)+(Clen*(i+1)) < 1400 and F < 16:\n",
        "      Tlen = (Plen*i)+(Clen*(i+1))\n",
        "      #print('{} Len block'.format(i))\n",
        "      Nl = i\n",
        "    else: \n",
        "      pass\n",
        "    F = (mT + (mP*Nl*Nw*Nh))*a*0.10972\n",
        "    \n",
        "    if (Pwid*i)+(Cwid*(i+1)) < 1000 and F < 16:\n",
        "      Twid = (Pwid*i)+(Cwid*(i+1))\n",
        "      #print('{} Width block'.format(i))\n",
        "      Nw = i\n",
        "    else: \n",
        "      pass\n",
        "    F = (mT + (mP*Nl*Nw*Nh))*a*0.10972\n",
        "    \n",
        "    if (Phei*i)+(Chei*(i+1))+Ghei < 1500 and F < 16:\n",
        "      Thei = (Phei*i)+(Chei*(i+1))+Ghei\n",
        "      #print('{} height block {}'.format(i, Thei))\n",
        "      Nh = i\n",
        "    else: \n",
        "      pass \n",
        "    F = (mT + (mP*Nl*Nw*Nh))*a*0.10972\n",
        "  return([Tlen,Twid, Thei, Nl, Nw, Nh, np.prod([Nl,Nw,Nh]),round(F,3)], Clen, Cwid, Chei)"
      ],
      "metadata": {
        "id": "-omgUlqogAId"
      },
      "execution_count": 15,
      "outputs": []
    },
    {
      "cell_type": "markdown",
      "source": [
        "# **T**est Rig **1**\n",
        "## Here the code and its performance is tested for acuracy and fine tuning"
      ],
      "metadata": {
        "id": "u75Vh0wihSUq"
      }
    },
    {
      "cell_type": "markdown",
      "source": [
        "Manually entering clearance"
      ],
      "metadata": {
        "id": "Pv4W_NBFvOpu"
      }
    },
    {
      "cell_type": "code",
      "source": [
        "# for Wheel, Crank case trolleys\n",
        "print(trolley_dim_detector(635, 115, 635, 7.7, 0, 50, 180, 260))\n",
        "print(trolley_dim_detector(83, 300, 250, 2.3, 25, 40, 65, 560))"
      ],
      "metadata": {
        "colab": {
          "base_uri": "https://localhost:8080/"
        },
        "id": "NyUMd7mwhRrk",
        "outputId": "c7330e45-4410-4747-96f7-c4e665cdd1f5"
      },
      "execution_count": 16,
      "outputs": [
        {
          "output_type": "stream",
          "name": "stdout",
          "text": [
            "[1270, 875, 1255, 2, 5, 1, 10, 4.438]\n",
            "[1321, 720, 1255, 12, 2, 2, 48, 5.275]\n"
          ]
        }
      ]
    },
    {
      "cell_type": "markdown",
      "source": [
        "Part Height Consideration"
      ],
      "metadata": {
        "id": "9NqnmUhyvhSM"
      }
    },
    {
      "cell_type": "code",
      "source": [
        "# for Wheel, Crank case trolleys\n",
        "print(trolley_dim_detector_partHeight(635, 115, 635, 7.7, 0, 50, 180, 260))\n",
        "print(trolley_dim_detector_partHeight(83, 300, 250, 2.3, 25, 40, 65, 560))"
      ],
      "metadata": {
        "id": "kP4NLMHbvhuz",
        "outputId": "0d984c6c-495d-46d3-f5a1-66a6542d2ebc",
        "colab": {
          "base_uri": "https://localhost:8080/"
        }
      },
      "execution_count": 17,
      "outputs": [
        {
          "output_type": "stream",
          "name": "stdout",
          "text": [
            "[1270, 875, 1255, 2, 5, 1, 10, 4.438]\n",
            "[1321, 720, 1570, 12, 2, 3, 72, 6.659]\n"
          ]
        }
      ]
    },
    {
      "cell_type": "markdown",
      "source": [
        "Auto Calulate clearance function"
      ],
      "metadata": {
        "id": "4qrjB8_Evh5z"
      }
    },
    {
      "cell_type": "code",
      "source": [
        "# for Wheel, Crank case trolleys\n",
        "print(trolley_dim_detector_AutoClearance(635, 115, 635, 7.7, 260))\n",
        "print(trolley_dim_detector_AutoClearance(83, 300, 250, 2.3, 560))"
      ],
      "metadata": {
        "id": "LgiTArVmviAg",
        "outputId": "4074d963-c8bd-47c1-c6ab-051105c43294",
        "colab": {
          "base_uri": "https://localhost:8080/"
        }
      },
      "execution_count": 18,
      "outputs": [
        {
          "output_type": "stream",
          "name": "stdout",
          "text": [
            "([825.5, 943.0, 1085.5, 1, 7, 1, 7, 3.858], 95.25, 17.25, 95.25)\n",
            "([1348.75, 735.0, 1460.0, 14, 2, 3, 84, 7.351], 12.45, 45.0, 37.5)\n"
          ]
        }
      ]
    },
    {
      "cell_type": "markdown",
      "source": [
        "The codes below this section are not a part of the program \n",
        "***kindly omit these lines***"
      ],
      "metadata": {
        "id": "bG_HK_3E7izx"
      }
    },
    {
      "cell_type": "code",
      "source": [
        "#Trial - Not working correctly\n",
        "while True:\n",
        "  if Tlen + Plen + Clen > 1400:\n",
        "    break\n",
        "  else:\n",
        "    Nl += 1\n",
        "    Tlen += Plen + Clen\n",
        "print(Tlen,Nl)"
      ],
      "metadata": {
        "colab": {
          "base_uri": "https://localhost:8080/"
        },
        "id": "nB1y-rbzXMfH",
        "outputId": "f5ab3ac3-6e2c-4518-d886-a94cde4f4296"
      },
      "execution_count": 19,
      "outputs": [
        {
          "output_type": "stream",
          "name": "stdout",
          "text": [
            "1152.0 3\n"
          ]
        }
      ]
    }
  ],
  "metadata": {
    "colab": {
      "collapsed_sections": [],
      "name": "Welcome To Colaboratory",
      "provenance": [],
      "include_colab_link": true
    },
    "kernelspec": {
      "display_name": "Python 3",
      "name": "python3"
    }
  },
  "nbformat": 4,
  "nbformat_minor": 0
}