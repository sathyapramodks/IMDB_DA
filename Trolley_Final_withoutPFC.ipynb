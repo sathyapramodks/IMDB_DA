{
  "cells": [
    {
      "cell_type": "markdown",
      "metadata": {
        "id": "view-in-github",
        "colab_type": "text"
      },
      "source": [
        "<a href=\"https://colab.research.google.com/github/sathyapramodks/Python-/blob/master/Trolley_Final_withoutPFC.ipynb\" target=\"_parent\"><img src=\"https://colab.research.google.com/assets/colab-badge.svg\" alt=\"Open In Colab\"/></a>"
      ]
    },
    {
      "cell_type": "code",
      "source": [
        "import pandas as pd\n",
        "import numpy as np\n",
        "import seaborn as sns\n",
        "import matplotlib.pyplot as plt"
      ],
      "metadata": {
        "id": "lO6MbOdNWGlm"
      },
      "execution_count": 2,
      "outputs": []
    },
    {
      "cell_type": "code",
      "source": [
        "Plen = 320\n",
        "Pwid = 330\n",
        "Phei = 380\n",
        "PartWeight = 30"
      ],
      "metadata": {
        "id": "UBdrrfqTWJP8"
      },
      "execution_count": 9,
      "outputs": []
    },
    {
      "cell_type": "code",
      "source": [
        "Tlen = 0\n",
        "Twid = 0\n",
        "Thei = 0\n",
        "Clen = 100\n",
        "Cwid = 80\n",
        "Chei = 40\n",
        "\n",
        "#Ground clearance height\n",
        "Ghei = 950 #tentative value to must be revised\n",
        "\n",
        "Nl = 0\n",
        "Nw = 0\n",
        "Nh = 0\n",
        "N = 0\n",
        "\n",
        "#Acceleration a = 0.2285 m/s^2\n",
        "#Pulling force = m * a\n",
        "a = 0.2285\n",
        "F = 0\n",
        "mP = PartWeight\n",
        "\n",
        "#Trolley mass is assumed to be 100kg\n",
        "mT = 100"
      ],
      "metadata": {
        "id": "35Cd0cMFW1Iv"
      },
      "execution_count": 129,
      "outputs": []
    },
    {
      "cell_type": "code",
      "source": [
        "#Trial - Not working correctly\n",
        "while True:\n",
        "  if Tlen + Plen + Clen > 1400:\n",
        "    break\n",
        "  else:\n",
        "    Nl += 1\n",
        "    Tlen += Plen + Clen\n",
        "print(Tlen,Nl)"
      ],
      "metadata": {
        "colab": {
          "base_uri": "https://localhost:8080/"
        },
        "id": "nB1y-rbzXMfH",
        "outputId": "3cc56e30-411f-4b58-8f0c-25aab2cfcb41"
      },
      "execution_count": 54,
      "outputs": [
        {
          "output_type": "stream",
          "name": "stdout",
          "text": [
            "1060 2\n"
          ]
        }
      ]
    },
    {
      "cell_type": "markdown",
      "source": [
        "Pulling force determination and trolley length, width and height determination"
      ],
      "metadata": {
        "id": "JaVLQyCDrWCX"
      }
    },
    {
      "cell_type": "code",
      "source": [
        "for i in range (1,100):\n",
        "    if (Plen*i)+(Clen*(i+1)) < 1400 :\n",
        "      Tlen = (Plen*i)+(Clen*(i+1))\n",
        "      #print('{} Len block'.format(i))\n",
        "      Nl = i\n",
        "    else: \n",
        "      pass\n",
        "    \n",
        "    if (Pwid*i)+(Cwid*(i+1)) < 1000 :\n",
        "      Twid = (Pwid*i)+(Cwid*(i+1))\n",
        "      #print('{} Width block'.format(i))\n",
        "      Nw = i\n",
        "    else: \n",
        "      pass\n",
        "    \n",
        "    if (Phei*i)+(Chei*(i+1))+Ghei < 1500:\n",
        "      Thei = (Phei*i)+(Chei*(i+1))\n",
        "      #print('{} height block {}'.format(i, Thei))\n",
        "      Nh = i\n",
        "    else: \n",
        "      pass  "
      ],
      "metadata": {
        "id": "t5X7po8YaIj3"
      },
      "execution_count": 130,
      "outputs": []
    },
    {
      "cell_type": "code",
      "source": [
        "print(Tlen, Twid, Thei)"
      ],
      "metadata": {
        "colab": {
          "base_uri": "https://localhost:8080/"
        },
        "id": "llDD0AhAeNGc",
        "outputId": "aab7ac56-1931-4b7a-c3b5-97ed06c60816"
      },
      "execution_count": 124,
      "outputs": [
        {
          "output_type": "stream",
          "name": "stdout",
          "text": [
            "1360 900 1300\n"
          ]
        }
      ]
    },
    {
      "cell_type": "code",
      "source": [
        "N = [Nl, Nw, Nh]\n",
        "print(np.prod(N))"
      ],
      "metadata": {
        "colab": {
          "base_uri": "https://localhost:8080/"
        },
        "id": "GdwQOQIoeW9c",
        "outputId": "93e2ba86-2810-476e-d831-018e5d2df74a"
      },
      "execution_count": 131,
      "outputs": [
        {
          "output_type": "stream",
          "name": "stdout",
          "text": [
            "6\n"
          ]
        }
      ]
    },
    {
      "cell_type": "code",
      "source": [
        "N\n"
      ],
      "metadata": {
        "colab": {
          "base_uri": "https://localhost:8080/"
        },
        "id": "Y9B9XgD6phqY",
        "outputId": "69016f8b-eed8-4e27-b637-cc7fec9d0123"
      },
      "execution_count": 95,
      "outputs": [
        {
          "output_type": "execute_result",
          "data": {
            "text/plain": [
              "[3, 2, 3]"
            ]
          },
          "metadata": {},
          "execution_count": 95
        }
      ]
    },
    {
      "cell_type": "code",
      "source": [
        "print(F,Nl)"
      ],
      "metadata": {
        "colab": {
          "base_uri": "https://localhost:8080/"
        },
        "id": "AwLYOZytvQgb",
        "outputId": "71f8fa8a-ac0d-453c-9e7c-90c9a2ce1e60"
      },
      "execution_count": 122,
      "outputs": [
        {
          "output_type": "stream",
          "name": "stdout",
          "text": [
            "16.0454528 3\n"
          ]
        }
      ]
    }
  ],
  "metadata": {
    "colab": {
      "collapsed_sections": [],
      "name": "Welcome To Colaboratory",
      "provenance": [],
      "include_colab_link": true
    },
    "kernelspec": {
      "display_name": "Python 3",
      "name": "python3"
    }
  },
  "nbformat": 4,
  "nbformat_minor": 0
}