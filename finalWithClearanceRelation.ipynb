{
  "cells": [
    {
      "cell_type": "markdown",
      "metadata": {
        "id": "view-in-github",
        "colab_type": "text"
      },
      "source": [
        "<a href=\"https://colab.research.google.com/github/sathyapramodks/Python-/blob/master/finalWithClearanceRelation.ipynb\" target=\"_parent\"><img src=\"https://colab.research.google.com/assets/colab-badge.svg\" alt=\"Open In Colab\"/></a>"
      ]
    },
    {
      "cell_type": "code",
      "source": [
        "import pandas as pd\n",
        "import numpy as np\n",
        "import seaborn as sns\n",
        "import matplotlib.pyplot as plt"
      ],
      "metadata": {
        "id": "lO6MbOdNWGlm"
      },
      "execution_count": 1,
      "outputs": []
    },
    {
      "cell_type": "code",
      "source": [
        "Plen = 320\n",
        "Pwid = 330\n",
        "Phei = 380\n",
        "PartWeight = 30"
      ],
      "metadata": {
        "id": "UBdrrfqTWJP8"
      },
      "execution_count": 2,
      "outputs": []
    },
    {
      "cell_type": "code",
      "source": [
        "Tlen = 0\n",
        "Twid = 0\n",
        "Thei = 0\n",
        "#Clen = 100 # or 2% of length\n",
        "Clen = 0.15* Plen\n",
        "#Cwid = 80 # or 2% of width\n",
        "Cwid = 0.15* Pwid\n",
        "#Chei = 40 # or 2% of height\n",
        "Chei = 0.15*Phei\n",
        "\n",
        "#Ground clearance height\n",
        "Ghei = 840 #tentative value to must be revised\n",
        "\n",
        "Nl = 0\n",
        "Nw = 0\n",
        "Nh = 0\n",
        "N = 0\n",
        "\n",
        "#Acceleration a = 0.2285 m/s^2\n",
        "#Pulling force = m * a\n",
        "a = 0.2285\n",
        "F = 0\n",
        "mP = PartWeight\n",
        "\n",
        "#Trolley mass is assumed to be 100kg\n",
        "mT = 100"
      ],
      "metadata": {
        "id": "35Cd0cMFW1Iv"
      },
      "execution_count": 8,
      "outputs": []
    },
    {
      "cell_type": "markdown",
      "source": [
        "Pulling force determination and trolley length, width and height determination"
      ],
      "metadata": {
        "id": "JaVLQyCDrWCX"
      }
    },
    {
      "cell_type": "code",
      "source": [
        "for i in range (1,100):\n",
        "    if (Plen*i)+(Clen*(i+1)) < 1400 and F < 16:\n",
        "      Tlen = (Plen*i)+(Clen*(i+1))\n",
        "      #print('{} Len block'.format(i))\n",
        "      Nl = i\n",
        "    else: \n",
        "      pass\n",
        "    F = (mT + (mP*Nl*Nw*Nh))*a*0.10972\n",
        "    \n",
        "    if (Pwid*i)+(Cwid*(i+1)) < 1000 and F < 16:\n",
        "      Twid = (Pwid*i)+(Cwid*(i+1))\n",
        "      #print('{} Width block'.format(i))\n",
        "      Nw = i\n",
        "    else: \n",
        "      pass\n",
        "    F = (mT + (mP*Nl*Nw*Nh))*a*0.10972\n",
        "    \n",
        "    if (Phei*i)+(Chei*(i+1))+Ghei < 1500 and F < 16:\n",
        "      Thei = (Phei*i)+(Chei*(i+1))+Ghei\n",
        "      #print('{} height block {}'.format(i, Thei))\n",
        "      Nh = i\n",
        "    else: \n",
        "      pass \n",
        "    F = (mT + (mP*Nl*Nw*Nh))*a*0.10972"
      ],
      "metadata": {
        "id": "t5X7po8YaIj3"
      },
      "execution_count": 9,
      "outputs": []
    },
    {
      "cell_type": "code",
      "source": [
        "N = [Nl, Nw, Nh]\n",
        "print(np.prod(N))"
      ],
      "metadata": {
        "colab": {
          "base_uri": "https://localhost:8080/"
        },
        "id": "GdwQOQIoeW9c",
        "outputId": "becd2f32-bf8f-40cd-c85c-d3fd1ab15099"
      },
      "execution_count": 10,
      "outputs": [
        {
          "output_type": "stream",
          "name": "stdout",
          "text": [
            "6\n"
          ]
        }
      ]
    },
    {
      "cell_type": "code",
      "source": [
        "print(Tlen, Twid, Thei)"
      ],
      "metadata": {
        "colab": {
          "base_uri": "https://localhost:8080/"
        },
        "id": "llDD0AhAeNGc",
        "outputId": "2b645b8d-4ee8-4f23-a088-b98e83270156"
      },
      "execution_count": 11,
      "outputs": [
        {
          "output_type": "stream",
          "name": "stdout",
          "text": [
            "1152.0 808.5 1334.0\n"
          ]
        }
      ]
    },
    {
      "cell_type": "code",
      "source": [
        "N\n"
      ],
      "metadata": {
        "colab": {
          "base_uri": "https://localhost:8080/"
        },
        "id": "Y9B9XgD6phqY",
        "outputId": "9b56ac8f-0a5e-47d4-cb4c-05462fe22b82"
      },
      "execution_count": null,
      "outputs": [
        {
          "output_type": "execute_result",
          "data": {
            "text/plain": [
              "[3, 2, 1]"
            ]
          },
          "metadata": {},
          "execution_count": 20
        }
      ]
    },
    {
      "cell_type": "code",
      "source": [
        "print(F,Nl)"
      ],
      "metadata": {
        "colab": {
          "base_uri": "https://localhost:8080/"
        },
        "id": "AwLYOZytvQgb",
        "outputId": "f871d24a-8f75-48d3-bd04-d3dae828590c"
      },
      "execution_count": null,
      "outputs": [
        {
          "output_type": "stream",
          "name": "stdout",
          "text": [
            "7.0198856 3\n"
          ]
        }
      ]
    },
    {
      "cell_type": "markdown",
      "source": [
        "The below snippet of code is the copy of the above snippets in a function manner"
      ],
      "metadata": {
        "id": "WuKdwo6Y_otO"
      }
    },
    {
      "cell_type": "code",
      "source": [
        "def trolley_dim_detector(Plen, Pwid, Phei, PartWeight, Clen, Cwid, Chei, Ghei):\n",
        "  Tlen = Twid = Thei = 0\n",
        "  Nl = Nw = Nh = N = 0\n",
        "  a = 0.2285\n",
        "  F = 0\n",
        "  mP = PartWeight\n",
        "  mT = 100\n",
        "  for i in range (1,100):\n",
        "    if (Plen*i)+(Clen*(i+1)) < 1400 and F < 16:\n",
        "      Tlen = (Plen*i)+(Clen*(i+1))\n",
        "      #print('{} Len block'.format(i))\n",
        "      Nl = i\n",
        "    else: \n",
        "      pass\n",
        "    F = (mT + (mP*Nl*Nw*Nh))*a*0.10972\n",
        "    \n",
        "    if (Pwid*i)+(Cwid*(i+1)) < 1000 and F < 16:\n",
        "      Twid = (Pwid*i)+(Cwid*(i+1))\n",
        "      #print('{} Width block'.format(i))\n",
        "      Nw = i\n",
        "    else: \n",
        "      pass\n",
        "    F = (mT + (mP*Nl*Nw*Nh))*a*0.10972\n",
        "    \n",
        "    if (Phei*i)+(Chei*(i+1))+Ghei < 1500 and F < 16:\n",
        "      Thei = (Phei*i)+(Chei*(i+1))+Ghei\n",
        "      #print('{} height block {}'.format(i, Thei))\n",
        "      Nh = i\n",
        "    else: \n",
        "      pass \n",
        "    F = (mT + (mP*Nl*Nw*Nh))*a*0.10972\n",
        "  return([Tlen,Twid, Thei, Nl, Nw, Nh, np.prod([Nl,Nw,Nh]),round(F,3)])"
      ],
      "metadata": {
        "id": "JZo7gVVX_nt2"
      },
      "execution_count": null,
      "outputs": []
    },
    {
      "cell_type": "code",
      "source": [
        "# for Engine trolley\n",
        "print(trolley_dim_detector(320,330,380,30,100,80,40,840))"
      ],
      "metadata": {
        "id": "mxDm39inDdyF",
        "outputId": "7f131ef8-38f5-4b03-8254-c7bd0f76fc78",
        "colab": {
          "base_uri": "https://localhost:8080/"
        }
      },
      "execution_count": null,
      "outputs": [
        {
          "output_type": "stream",
          "name": "stdout",
          "text": [
            "[1360, 900, 1300, 3, 2, 1, 6, 7.02]\n"
          ]
        }
      ]
    },
    {
      "cell_type": "code",
      "source": [
        "# for fule tank trolley (star city, city+)\n",
        "print(trolley_dim_detector(305,520,345,3.72,100,80,40,200))"
      ],
      "metadata": {
        "id": "NUQd3-uRWoXx",
        "outputId": "46964555-3290-4521-84a9-15c5a82e478b",
        "colab": {
          "base_uri": "https://localhost:8080/"
        }
      },
      "execution_count": null,
      "outputs": [
        {
          "output_type": "stream",
          "name": "stdout",
          "text": [
            "[1315, 680, 1395, 3, 1, 3, 9, 3.346]\n"
          ]
        }
      ]
    },
    {
      "cell_type": "markdown",
      "source": [
        "The below snippet is based on the constrain of part height\n",
        "\n",
        "\n",
        "1.   The height of the trolley along with the parts can be a maximum of 20% higher than tha height of the trolley not considering the height of the part\n",
        "2.   This assumption may be a good one or a wrong one which has to be validated before using.\n",
        "\n"
      ],
      "metadata": {
        "id": "hb-JPlaFY06_"
      }
    },
    {
      "cell_type": "code",
      "source": [
        "# code functioning based on Part height consideration\n",
        "def trolley_dim_detector_partHeight(Plen, Pwid, Phei, PartWeight, Clen, Cwid, Chei, Ghei):\n",
        "  Tlen = Twid = Thei = 0\n",
        "  Nl = Nw = Nh = N = 0\n",
        "  a = 0.2285\n",
        "  F = 0\n",
        "  mP = PartWeight\n",
        "  mT = 100\n",
        "  for i in range (1,100):\n",
        "    if (Plen*i)+(Clen*(i+1)) < 1400 and F < 16:\n",
        "      Tlen = (Plen*i)+(Clen*(i+1))\n",
        "      #print('{} Len block'.format(i))\n",
        "      Nl = i\n",
        "    else: \n",
        "      pass\n",
        "    F = (mT + (mP*Nl*Nw*Nh))*a*0.10972\n",
        "    \n",
        "    if (Pwid*i)+(Cwid*(i+1)) < 1000 and F < 16:\n",
        "      Twid = (Pwid*i)+(Cwid*(i+1))\n",
        "      #print('{} Width block'.format(i))\n",
        "      Nw = i\n",
        "    else: \n",
        "      pass\n",
        "    F = (mT + (mP*Nl*Nw*Nh))*a*0.10972\n",
        "    \n",
        "    if (Phei*i)+(Chei*(i+1))+Ghei < int(1500*1.1) and F < 16:\n",
        "      Thei = (Phei*i)+(Chei*(i+1))+Ghei\n",
        "      #print('{} height block {}'.format(i, Thei))\n",
        "      Nh = i\n",
        "    else: \n",
        "      pass \n",
        "    F = (mT + (mP*Nl*Nw*Nh))*a*0.10972\n",
        "  return([Tlen,Twid, Thei, Nl, Nw, Nh, np.prod([Nl,Nw,Nh]),round(F,3)])"
      ],
      "metadata": {
        "id": "07whxPgeYlki"
      },
      "execution_count": null,
      "outputs": []
    },
    {
      "cell_type": "code",
      "source": [
        "1500*1.2"
      ],
      "metadata": {
        "id": "wODeAWoYX_Im",
        "outputId": "be87d20d-8221-4304-f609-4fa32d14b43e",
        "colab": {
          "base_uri": "https://localhost:8080/"
        }
      },
      "execution_count": null,
      "outputs": [
        {
          "output_type": "execute_result",
          "data": {
            "text/plain": [
              "1800.0"
            ]
          },
          "metadata": {},
          "execution_count": 27
        }
      ]
    },
    {
      "cell_type": "markdown",
      "source": [
        "The codes below this section are not a part of the program \n",
        "***kindly omit these lines***"
      ],
      "metadata": {
        "id": "bG_HK_3E7izx"
      }
    },
    {
      "cell_type": "code",
      "source": [
        "#Trial - Not working correctly\n",
        "while True:\n",
        "  if Tlen + Plen + Clen > 1400:\n",
        "    break\n",
        "  else:\n",
        "    Nl += 1\n",
        "    Tlen += Plen + Clen\n",
        "print(Tlen,Nl)"
      ],
      "metadata": {
        "colab": {
          "base_uri": "https://localhost:8080/"
        },
        "id": "nB1y-rbzXMfH",
        "outputId": "e779e1f3-2dc8-46d8-93fe-7d6ffc78da89"
      },
      "execution_count": null,
      "outputs": [
        {
          "output_type": "stream",
          "name": "stdout",
          "text": [
            "1360 3\n"
          ]
        }
      ]
    }
  ],
  "metadata": {
    "colab": {
      "collapsed_sections": [],
      "name": "Welcome To Colaboratory",
      "provenance": [],
      "include_colab_link": true
    },
    "kernelspec": {
      "display_name": "Python 3",
      "name": "python3"
    }
  },
  "nbformat": 4,
  "nbformat_minor": 0
}