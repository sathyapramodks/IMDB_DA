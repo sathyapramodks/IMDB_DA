{
  "cells": [
    {
      "cell_type": "markdown",
      "metadata": {
        "id": "view-in-github",
        "colab_type": "text"
      },
      "source": [
        "<a href=\"https://colab.research.google.com/github/sathyapramodks/Python-/blob/master/final_with_fxn.ipynb\" target=\"_parent\"><img src=\"https://colab.research.google.com/assets/colab-badge.svg\" alt=\"Open In Colab\"/></a>"
      ]
    },
    {
      "cell_type": "code",
      "source": [
        "import pandas as pd\n",
        "import numpy as np\n",
        "import seaborn as sns\n",
        "import matplotlib.pyplot as plt"
      ],
      "metadata": {
        "id": "lO6MbOdNWGlm"
      },
      "execution_count": 132,
      "outputs": []
    },
    {
      "cell_type": "code",
      "source": [
        "Plen = 320\n",
        "Pwid = 330\n",
        "Phei = 380\n",
        "PartWeight = 30"
      ],
      "metadata": {
        "id": "UBdrrfqTWJP8"
      },
      "execution_count": 133,
      "outputs": []
    },
    {
      "cell_type": "code",
      "source": [
        "Tlen = 0\n",
        "Twid = 0\n",
        "Thei = 0\n",
        "Clen = 100 # or 2% of length\n",
        "Cwid = 80 # or 2% of width\n",
        "Chei = 40 # or 2% of height\n",
        "\n",
        "#Ground clearance height\n",
        "Ghei = 840 #tentative value to must be revised\n",
        "\n",
        "Nl = 0\n",
        "Nw = 0\n",
        "Nh = 0\n",
        "N = 0\n",
        "\n",
        "#Acceleration a = 0.2285 m/s^2\n",
        "#Pulling force = m * a\n",
        "a = 0.2285\n",
        "F = 0\n",
        "mP = PartWeight\n",
        "\n",
        "#Trolley mass is assumed to be 100kg\n",
        "mT = 100"
      ],
      "metadata": {
        "id": "35Cd0cMFW1Iv"
      },
      "execution_count": 169,
      "outputs": []
    },
    {
      "cell_type": "markdown",
      "source": [
        "Pulling force determination and trolley length, width and height determination"
      ],
      "metadata": {
        "id": "JaVLQyCDrWCX"
      }
    },
    {
      "cell_type": "code",
      "source": [
        "for i in range (1,100):\n",
        "    if (Plen*i)+(Clen*(i+1)) < 1400 and F < 16:\n",
        "      Tlen = (Plen*i)+(Clen*(i+1))\n",
        "      #print('{} Len block'.format(i))\n",
        "      Nl = i\n",
        "    else: \n",
        "      pass\n",
        "    F = (mT + (mP*Nl*Nw*Nh))*a*0.10972\n",
        "    \n",
        "    if (Pwid*i)+(Cwid*(i+1)) < 1000 and F < 16:\n",
        "      Twid = (Pwid*i)+(Cwid*(i+1))\n",
        "      #print('{} Width block'.format(i))\n",
        "      Nw = i\n",
        "    else: \n",
        "      pass\n",
        "    F = (mT + (mP*Nl*Nw*Nh))*a*0.10972\n",
        "    \n",
        "    if (Phei*i)+(Chei*(i+1))+Ghei < 1500 and F < 16:\n",
        "      Thei = (Phei*i)+(Chei*(i+1))+Ghei\n",
        "      #print('{} height block {}'.format(i, Thei))\n",
        "      Nh = i\n",
        "    else: \n",
        "      pass \n",
        "    F = (mT + (mP*Nl*Nw*Nh))*a*0.10972"
      ],
      "metadata": {
        "id": "t5X7po8YaIj3"
      },
      "execution_count": 170,
      "outputs": []
    },
    {
      "cell_type": "code",
      "source": [
        "N = [Nl, Nw, Nh]\n",
        "print(np.prod(N))"
      ],
      "metadata": {
        "colab": {
          "base_uri": "https://localhost:8080/"
        },
        "id": "GdwQOQIoeW9c",
        "outputId": "1e16e8ec-c589-4f52-b9fd-a5ff397fb8f4"
      },
      "execution_count": 171,
      "outputs": [
        {
          "output_type": "stream",
          "name": "stdout",
          "text": [
            "6\n"
          ]
        }
      ]
    },
    {
      "cell_type": "code",
      "source": [
        "print(Tlen, Twid, Thei)"
      ],
      "metadata": {
        "colab": {
          "base_uri": "https://localhost:8080/"
        },
        "id": "llDD0AhAeNGc",
        "outputId": "e270eaac-a21a-45bc-d7ce-c74f248e744f"
      },
      "execution_count": 172,
      "outputs": [
        {
          "output_type": "stream",
          "name": "stdout",
          "text": [
            "1360 900 1300\n"
          ]
        }
      ]
    },
    {
      "cell_type": "code",
      "source": [
        "N\n"
      ],
      "metadata": {
        "colab": {
          "base_uri": "https://localhost:8080/"
        },
        "id": "Y9B9XgD6phqY",
        "outputId": "44857817-fab5-42b4-9f9f-43a3b727b20f"
      },
      "execution_count": 138,
      "outputs": [
        {
          "output_type": "execute_result",
          "data": {
            "text/plain": [
              "[3, 2, 1]"
            ]
          },
          "metadata": {},
          "execution_count": 138
        }
      ]
    },
    {
      "cell_type": "code",
      "source": [
        "print(F,Nl)"
      ],
      "metadata": {
        "colab": {
          "base_uri": "https://localhost:8080/"
        },
        "id": "AwLYOZytvQgb",
        "outputId": "54988f09-7028-43ee-c188-2825ab81c5de"
      },
      "execution_count": 139,
      "outputs": [
        {
          "output_type": "stream",
          "name": "stdout",
          "text": [
            "0 3\n"
          ]
        }
      ]
    },
    {
      "cell_type": "markdown",
      "source": [
        "The below snippet of code is the copy of the above snippets in a function manner"
      ],
      "metadata": {
        "id": "WuKdwo6Y_otO"
      }
    },
    {
      "cell_type": "code",
      "source": [
        "def trolley_dim_detector(Plen, Pwid, Phei, PartWeight, Clen, Cwid, Chei, Ghei):\n",
        "  Tlen = Twid = Thei = 0\n",
        "  Nl = Nw = Nh = N = 0\n",
        "  a = 0.2285\n",
        "  F = 0\n",
        "  mP = PartWeight\n",
        "  mT = 100\n",
        "  for i in range (1,100):\n",
        "    if (Plen*i)+(Clen*(i+1)) < 1400 and F < 16:\n",
        "      Tlen = (Plen*i)+(Clen*(i+1))\n",
        "      #print('{} Len block'.format(i))\n",
        "      Nl = i\n",
        "    else: \n",
        "      pass\n",
        "    F = (mT + (mP*Nl*Nw*Nh))*a*0.10972\n",
        "    \n",
        "    if (Pwid*i)+(Cwid*(i+1)) < 1000 and F < 16:\n",
        "      Twid = (Pwid*i)+(Cwid*(i+1))\n",
        "      #print('{} Width block'.format(i))\n",
        "      Nw = i\n",
        "    else: \n",
        "      pass\n",
        "    F = (mT + (mP*Nl*Nw*Nh))*a*0.10972\n",
        "    \n",
        "    if (Phei*i)+(Chei*(i+1))+Ghei < 1500 and F < 16:\n",
        "      Thei = (Phei*i)+(Chei*(i+1))+Ghei\n",
        "      #print('{} height block {}'.format(i, Thei))\n",
        "      Nh = i\n",
        "    else: \n",
        "      pass \n",
        "    F = (mT + (mP*Nl*Nw*Nh))*a*0.10972\n",
        "  return([Tlen,Twid, Thei, Nl, Nw, Nh, np.prod([Nl,Nw,Nh]),F])"
      ],
      "metadata": {
        "id": "JZo7gVVX_nt2"
      },
      "execution_count": 176,
      "outputs": []
    },
    {
      "cell_type": "code",
      "source": [
        "print(trolley_dim_detector(320,330,380,30,100,80,40,840))"
      ],
      "metadata": {
        "id": "mxDm39inDdyF",
        "outputId": "087b6b84-f353-468b-f0b0-807693a8ac6b",
        "colab": {
          "base_uri": "https://localhost:8080/"
        }
      },
      "execution_count": 177,
      "outputs": [
        {
          "output_type": "stream",
          "name": "stdout",
          "text": [
            "[1360, 900, 1300, 3, 2, 1, 6, 7.0198856]\n"
          ]
        }
      ]
    },
    {
      "cell_type": "markdown",
      "source": [
        "The codes below this section are not a part of the program \n",
        "***kindly omit these lines***"
      ],
      "metadata": {
        "id": "bG_HK_3E7izx"
      }
    },
    {
      "cell_type": "code",
      "source": [
        "#Trial - Not working correctly\n",
        "while True:\n",
        "  if Tlen + Plen + Clen > 1400:\n",
        "    break\n",
        "  else:\n",
        "    Nl += 1\n",
        "    Tlen += Plen + Clen\n",
        "print(Tlen,Nl)"
      ],
      "metadata": {
        "colab": {
          "base_uri": "https://localhost:8080/"
        },
        "id": "nB1y-rbzXMfH",
        "outputId": "83b62dcd-39f5-406f-de00-64097538413d"
      },
      "execution_count": 140,
      "outputs": [
        {
          "output_type": "stream",
          "name": "stdout",
          "text": [
            "1360 3\n"
          ]
        }
      ]
    }
  ],
  "metadata": {
    "colab": {
      "collapsed_sections": [],
      "name": "Welcome To Colaboratory",
      "provenance": [],
      "include_colab_link": true
    },
    "kernelspec": {
      "display_name": "Python 3",
      "name": "python3"
    }
  },
  "nbformat": 4,
  "nbformat_minor": 0
}